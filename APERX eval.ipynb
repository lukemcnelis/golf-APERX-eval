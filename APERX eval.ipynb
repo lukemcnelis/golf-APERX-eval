{
 "cells": [
  {
   "cell_type": "code",
   "execution_count": 42,
   "metadata": {},
   "outputs": [],
   "source": [
    "# Notebook to iterate through PGA & EUR tournaments and calculate percentage wins based each end of round finishing position\n",
    "import os, sys, csv\n",
    "import pandas as pd\n",
    "\n",
    "tour_id = 'PGA'         # PGA / EUR\n",
    "dir_curr = 'C:\\\\Users\\\\lukem\\\\Google Drive\\\\Thetaco\\\\golf-APERX-eval\\\\'\n",
    "if tour_id=='PGA':\n",
    "    dir_source = 'C:\\\\Users\\\\lukem\\\\Dropbox\\\\PC\\\\Desktop\\\\Big Data\\\\Golf Data\\\\PGA Tour\\\\Scorecards\\\\4RND-Data'\n",
    "    dir_target = 'C:\\\\Users\\\\lukem\\\\Dropbox\\\\PC\\\\Desktop\\\\Big Data\\\\Golf Data\\\\PGA Tour\\\\Scorecards\\\\APERX\\\\'\n",
    "if tour_id=='EUR':\n",
    "    dir_source = 'C:\\\\Users\\\\lukem\\\\Dropbox\\\\PC\\\\Desktop\\\\Big Data\\\\Golf Data\\\\European Tour\\\\Scorecards\\\\4RND-Data'\n",
    "    dir_target = 'C:\\\\Users\\\\lukem\\\\Dropbox\\\\PC\\\\Desktop\\\\Big Data\\\\Golf Data\\\\European Tour\\\\Scorecards\\\\APERX\\\\'"
   ]
  },
  {
   "cell_type": "code",
   "execution_count": null,
   "metadata": {},
   "outputs": [],
   "source": [
    "#Parse APERX files & calculate APERX stats\n",
    "os.chdir(dir_target)\n",
    "aper1_df = pd.DataFrame([i for i in range(1,157)], columns=['aper1'])\n",
    "aper2_df = pd.DataFrame([i for i in range(1,157)], columns=['aper2'])\n",
    "aper3_df = pd.DataFrame([i for i in range(1,157)], columns=['aper3'])\n",
    "aper1_df['# wins'] = [0]*len(aper1_df)\n",
    "aper2_df['# wins'] = [0]*len(aper2_df)\n",
    "aper3_df['# wins'] = [0]*len(aper3_df)\n",
    "aper1_df['dates'] = ['']*len(aper1_df)\n",
    "aper2_df['dates'] = ['']*len(aper2_df)\n",
    "aper3_df['dates'] = ['']*len(aper3_df)\n",
    "cnt=0\n",
    "for file in os.listdir('.'):\n",
    "    cnt+=1\n",
    "    print(f'{cnt}) parsing {file} and updating APERX stats')\n",
    "    df = pd.read_csv(file, engine='python')\n",
    "    aper1, aper2, aper3 = df.loc[0,'APER1'], df.loc[0,'APER2'], df.loc[0,'APER3']\n",
    "    aper1_df.loc[aper1-1, '# wins']+=1\n",
    "    aper2_df.loc[aper2-1, '# wins']+=1\n",
    "    aper3_df.loc[aper3-1, '# wins']+=1\n",
    "    aper1_df.loc[aper1-1, 'dates']+=', '+'_'.join(file.split('_')[:3])\n",
    "    aper2_df.loc[aper2-1, 'dates']+=', '+'_'.join(file.split('_')[:3])\n",
    "    aper3_df.loc[aper3-1, 'dates']+=', '+'_'.join(file.split('_')[:3])\n",
    "aper1_df['% wins'] = aper1_df['# wins']/cnt\n",
    "aper2_df['% wins'] = aper2_df['# wins']/cnt\n",
    "aper3_df['% wins'] = aper3_df['# wins']/cnt\n",
    "aper1_df.to_csv(dir_curr+tour_id+' - APER1 stats.csv', index=False)\n",
    "aper2_df.to_csv(dir_curr+tour_id+' - APER2 stats.csv', index=False)\n",
    "aper3_df.to_csv(dir_curr+tour_id+' - APER3 stats.csv', index=False)"
   ]
  },
  {
   "cell_type": "code",
   "execution_count": null,
   "metadata": {},
   "outputs": [],
   "source": [
    "#Parse tournaments, calculate APER for rounds 1-3, output results to target directory\n",
    "r1_sort = [str(i) for i in range(18,0,-1)]\n",
    "r1_sort = ['R1']+r1_sort\n",
    "r1_bin = [True for i in range(len(r1_sort))]\n",
    "r2_sort = [str(i) for i in range(36,0,-1)]\n",
    "r2_sort = ['R2_tot', 'R2']+r2_sort\n",
    "r2_bin = [True for i in range(len(r2_sort))]\n",
    "r3_sort = [str(i) for i in range(54,0,-1)]\n",
    "r3_sort = ['R3_tot', 'R3']+r3_sort\n",
    "r3_bin = [True for i in range(len(r3_sort))]\n",
    "cnt=0\n",
    "os.chdir(dir_source)\n",
    "for file in os.listdir('.'):\n",
    "    if not file.endswith('.csv'): continue\n",
    "    cnt+=1\n",
    "    print(f'{cnt}) {file}')\n",
    "    df = pd.read_csv(file, engine='python')\n",
    "    if not df.loc[0,'Thru']=='#Courses = 1': continue\n",
    "    df.drop(0, inplace=True)\n",
    "    df.drop(df[df['Pos'].isin(['777','888'])].index, inplace=True)\n",
    "    df.reset_index(drop=True, inplace=True)\n",
    "    #APER1\n",
    "    df.sort_values(by=r1_sort, ascending=r1_bin, inplace=True)\n",
    "    df.reset_index(drop=True, inplace=True)\n",
    "    df['APER1'] = df.index+1\n",
    "    #APER2\n",
    "    df['R2_tot'] = df['R1']+df['R2']\n",
    "    df.sort_values(by=r2_sort, ascending=r2_bin, inplace=True)\n",
    "    df.reset_index(drop=True, inplace=True)\n",
    "    df['APER2'] = df.index+1\n",
    "    #APER3\n",
    "    df['R3_tot'] = df['R1']+df['R2']+df['R3']\n",
    "    df.loc[df['Pos']==666, 'R3_tot']=666\n",
    "    df.sort_values(by=r3_sort, ascending=r3_bin, inplace=True)\n",
    "    df.reset_index(drop=True, inplace=True)\n",
    "    df['APER3'] = df.index+1\n",
    "    #Output\n",
    "    df.sort_values(by='Pos', ascending=True, inplace=True)\n",
    "    df.reset_index(drop=True, inplace=True)\n",
    "    df.to_csv(dir_target+file[:-4]+' - APERX.csv', index=False)\n"
   ]
  },
  {
   "cell_type": "code",
   "execution_count": null,
   "metadata": {},
   "outputs": [],
   "source": []
  }
 ],
 "metadata": {
  "kernelspec": {
   "display_name": "Python 3.6.6 64-bit",
   "language": "python",
   "name": "python3"
  },
  "language_info": {
   "codemirror_mode": {
    "name": "ipython",
    "version": 3
   },
   "file_extension": ".py",
   "mimetype": "text/x-python",
   "name": "python",
   "nbconvert_exporter": "python",
   "pygments_lexer": "ipython3",
   "version": "3.6.6"
  },
  "orig_nbformat": 4,
  "vscode": {
   "interpreter": {
    "hash": "24d7522ab3ca1a59910963a0b2c5bbc2ca65d83c10ed9498b4a93fbee4b7dcb2"
   }
  }
 },
 "nbformat": 4,
 "nbformat_minor": 2
}
